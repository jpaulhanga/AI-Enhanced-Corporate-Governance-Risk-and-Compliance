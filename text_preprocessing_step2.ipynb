{
 "cells": [
  {
   "cell_type": "code",
   "execution_count": 5,
   "id": "4aa0b386-177f-4f71-b7d0-9a0616776813",
   "metadata": {},
   "outputs": [],
   "source": [
    "import zipfile\n",
    "import os\n",
    "import pandas as pd\n",
    "import json\n",
    "from bs4 import BeautifulSoup\n",
    "import re"
   ]
  },
  {
   "cell_type": "code",
   "execution_count": 6,
   "id": "1ffce7a8-5967-4e24-b933-0749a91ea473",
   "metadata": {},
   "outputs": [
    {
     "name": "stdout",
     "output_type": "stream",
     "text": [
      "['raw1', 'extracted', 'raw']\n"
     ]
    }
   ],
   "source": [
    "fileZip_path_text = '/home/project/Documents/mgmt/extracted.zip'\n",
    "fileZip_path_text_raw = '/home/project/Documents/mgmt/raw.zip'\n",
    "fileZip_path_text_raw1 = '/home/project/Documents/mgmt/raw1.zip'\n",
    "\n",
    "extract_dir = '/home/project/Documents/mgmt/extract_dir'\n",
    "\n",
    "with zipfile.ZipFile(fileZip_path_text, \"r\") as extract_ref:\n",
    "    extract_ref.extractall(extract_dir)\n",
    "\n",
    "with zipfile.ZipFile(fileZip_path_text_raw, \"r\") as extract_ref:\n",
    "    extract_ref.extractall(extract_dir)\n",
    "\n",
    "with zipfile.ZipFile(fileZip_path_text_raw1, \"r\") as extract_ref:\n",
    "    extract_ref.extractall(extract_dir)\n",
    "\n",
    "files = os.listdir(extract_dir)\n",
    "print(files[:10])\n",
    "\n",
    "#print(\"Extracted 10K files folder\", os.listdir(extract_dir)[:5])\n"
   ]
  },
  {
   "cell_type": "code",
   "execution_count": 7,
   "id": "f177bd9d-821f-44fe-a9e4-2cc783e21ba0",
   "metadata": {},
   "outputs": [],
   "source": [
    "#Clean Text dataset(10-K reports)\n",
    "\n",
    "records = []\n",
    "\n",
    "for root, dirs, files in os.walk(extract_dir):\n",
    "    for file_name in files:\n",
    "        file_path = os.path.join(root, file_name)\n",
    "        text = \"\"           "
   ]
  },
  {
   "cell_type": "code",
   "execution_count": 8,
   "id": "f97f2632-5b10-4763-8ecf-3c87dc568d46",
   "metadata": {},
   "outputs": [
    {
     "name": "stdout",
     "output_type": "stream",
     "text": [
      "                                   file_name  \\\n",
      "0  1404655_10K_2020_0001564590-21-006083.htm   \n",
      "1  1528396_10K_2021_0001528396-21-000095.htm   \n",
      "2  837852_10K_2020_0001104659-21-044740.json   \n",
      "3  1404655_10K_2020_0001564590-21-006083.htm   \n",
      "\n",
      "                                          clean_text  \n",
      "0  hubs-10k_20201231.htm false FY 0001404655 --12...  \n",
      "1  gwre-2021073100015283962021FYfalseP3YP3Mus-gaa...  \n",
      "2                                   IDEANOMICS, INC.  \n",
      "3  hubs-10k_20201231.htm false FY 0001404655 --12...  \n",
      "Total files processed: 4\n"
     ]
    }
   ],
   "source": [
    "#Clean Text dataset(10-K reports)\n",
    "\n",
    "records = []\n",
    "\n",
    "for root, dirs, files in os.walk(extract_dir):\n",
    "    for file_name in files:\n",
    "        file_path = os.path.join(root, file_name)\n",
    "        text = \"\" \n",
    "\n",
    "    #json files\n",
    "    if file_name.lower().endswith(\".json\"):\n",
    "        try:\n",
    "            with open(file_path, \"r\", encoding=\"utf-8\" , errors=\"ignore\") as f:\n",
    "                data = json.load(f)\n",
    "                for key in [\"company\"]:\n",
    "                    if key in data:\n",
    "                        text = data[key]\n",
    "                        break                     \n",
    "        except Exception as e:\n",
    "            print(f\"Error reading JSON {file_name}: {e}\")\n",
    "\n",
    "\n",
    "    elif file_name.lower().endswith(\".htm\"):\n",
    "        try:\n",
    "            with open(file_path, \"r\", encoding=\"utf-8\" , errors=\"ignore\") as f:\n",
    "                html = f.read()\n",
    "                soup = BeautifulSoup(html, \"html.parser\")\n",
    "                for script in soup([\"script\", \"style\"]):\n",
    "                    script.decompose()\n",
    "                text = soup.get_text()\n",
    "\n",
    "        except Exception as e:\n",
    "            print(f\"Error reading HTML {file_name}: {e}\")\n",
    "\n",
    "    #Clean whitespaces\n",
    "    text = re.sub(r\"\\s+\", \" \", text).strip()\n",
    "\n",
    "    if text:\n",
    "        records.append({\"file_name\": file_name, \"clean_text\" : text})\n",
    "\n",
    "df_texts = pd.DataFrame(records)\n",
    "print(df_texts.head())\n",
    "print(\"Total files processed:\", len(df_texts))"
   ]
  },
  {
   "cell_type": "code",
   "execution_count": 9,
   "id": "75e58181-f520-43e5-8d5c-29abda8edd3c",
   "metadata": {},
   "outputs": [
    {
     "name": "stdout",
     "output_type": "stream",
     "text": [
      "Saved as 'unified_cleaned_text.csv'\n"
     ]
    }
   ],
   "source": [
    "df_texts.to_csv(\"unified_texset.csv\", index=False)\n",
    "print(\"Saved as 'unified_cleaned_text.csv'\")"
   ]
  },
  {
   "cell_type": "code",
   "execution_count": null,
   "id": "6b537c4d-6172-49af-b3d6-70e42612213a",
   "metadata": {},
   "outputs": [],
   "source": []
  }
 ],
 "metadata": {
  "kernelspec": {
   "display_name": "Python 3 (ipykernel)",
   "language": "python",
   "name": "python3"
  },
  "language_info": {
   "codemirror_mode": {
    "name": "ipython",
    "version": 3
   },
   "file_extension": ".py",
   "mimetype": "text/x-python",
   "name": "python",
   "nbconvert_exporter": "python",
   "pygments_lexer": "ipython3",
   "version": "3.11.9"
  }
 },
 "nbformat": 4,
 "nbformat_minor": 5
}
