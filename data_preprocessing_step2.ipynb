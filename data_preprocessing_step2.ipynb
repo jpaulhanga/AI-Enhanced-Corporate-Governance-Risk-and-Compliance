{
 "cells": [
  {
   "cell_type": "code",
   "execution_count": 41,
   "id": "faa9fd92-d9bc-4331-a810-beb76b84e91a",
   "metadata": {},
   "outputs": [],
   "source": [
    "import pandas as pd\n",
    "from sklearn.preprocessing import StandardScaler\n",
    "from sklearn.impute import SimpleImputer"
   ]
  },
  {
   "cell_type": "code",
   "execution_count": 42,
   "id": "864b4b3b-7011-4523-9ff8-3510d85bc26a",
   "metadata": {},
   "outputs": [],
   "source": [
    "unified_dataset = '/home/project/Documents/mgmt/unified_dataset.csv'\n",
    "df_unified_dataset = pd.read_csv(unified_dataset)"
   ]
  },
  {
   "cell_type": "code",
   "execution_count": 43,
   "id": "9a6008e9-9105-453c-ba10-cda1d707458a",
   "metadata": {},
   "outputs": [],
   "source": [
    "#fill missibg values in year\n",
    "imputer = SimpleImputer(strategy='mean')\n",
    "df_unified_dataset['year'] = imputer.fit_transform(df_unified_dataset[['year']])"
   ]
  },
  {
   "cell_type": "code",
   "execution_count": 66,
   "id": "cf0915db-b526-4f97-8c09-8c6e5df1af96",
   "metadata": {},
   "outputs": [],
   "source": [
    "#scale year\n",
    "scaler = StandardScaler()\n",
    "df_unified_dataset['year_scaled'] = scaler.fit_transform(df_unified_dataset[['year']])"
   ]
  },
  {
   "cell_type": "code",
   "execution_count": 67,
   "id": "0bf3864b-ecab-4c81-9f68-e334e77977e4",
   "metadata": {},
   "outputs": [
    {
     "name": "stdout",
     "output_type": "stream",
     "text": [
      "Preprocessed dataset saved as ' merged_numeric_preprocessed.csv'\n"
     ]
    }
   ],
   "source": [
    "#print(df_unified_dataset)\n",
    "df_unified_dataset.to_csv(\"merged_numeric_preprocessed.csv\", index=False)\n",
    "print(\"Preprocessed dataset saved as ' merged_numeric_preprocessed.csv'\")"
   ]
  },
  {
   "cell_type": "code",
   "execution_count": 49,
   "id": "1c132ee7-0b7c-4c5a-aa90-9ebd250d3d4b",
   "metadata": {},
   "outputs": [],
   "source": [
    "#we use 33rdand 66th percentiles to calculate percentiles\n",
    "\n",
    "year_values = df_unified_dataset['year_scaled'].dropna()\n",
    "\n",
    "low_thresh = year_values.quantile(0.33)\n",
    "high_thresh = year_values.quantile(0.66)\n",
    "\n",
    "def assign_risk_percentile(year_scaled):\n",
    "    if pd.isna(year_scaled):\n",
    "        return \"unkmown\"\n",
    "    elif year_scaled <= low_thresh:\n",
    "        return \"Low\"\n",
    "    elif year_scaled <= high_thresh:\n",
    "        return \"Medium\"\n",
    "    else:\n",
    "        return \"High\"\n",
    "  \n",
    "    "
   ]
  },
  {
   "cell_type": "code",
   "execution_count": 50,
   "id": "1435af1f-262a-481c-9091-a2ef676e7c1e",
   "metadata": {},
   "outputs": [],
   "source": [
    "df_unified_dataset['Risk Level'] = df_unified_dataset['year_scaled'].apply(assign_risk_percentile)"
   ]
  },
  {
   "cell_type": "code",
   "execution_count": 51,
   "id": "7d69ccc8-9a16-4335-b18e-fc02f7234257",
   "metadata": {},
   "outputs": [
    {
     "name": "stdout",
     "output_type": "stream",
     "text": [
      "            ticker        year  year_scaled Risk Level\n",
      "0     <<<<<<< HEAD  2019.89085     0.000000     Medium\n",
      "1            C5706  2024.00000     1.512951       High\n",
      "2            C1577  2022.00000     0.776570     Medium\n",
      "3            C5016  2016.00000    -1.432575        Low\n",
      "4            C2817  2019.00000    -0.328003        Low\n",
      "...            ...         ...          ...        ...\n",
      "9110           ACN  2019.89085     0.000000     Medium\n",
      "9111          ABBV  2019.89085     0.000000     Medium\n",
      "9112           ABT  2019.89085     0.000000     Medium\n",
      "9113           AOS  2019.89085     0.000000     Medium\n",
      "9114           MMM  2019.89085     0.000000     Medium\n",
      "\n",
      "[9115 rows x 4 columns]\n"
     ]
    }
   ],
   "source": [
    "print(df_unified_dataset)"
   ]
  },
  {
   "cell_type": "code",
   "execution_count": 63,
   "id": "7f1a2e02-1bc1-4b4b-827e-1f365574b3ab",
   "metadata": {},
   "outputs": [],
   "source": [
    "X_num = df_unified_dataset[['year', 'year_scaled']]"
   ]
  },
  {
   "cell_type": "code",
   "execution_count": 54,
   "id": "d881cc0c-c45a-49c4-a5d7-9c68e62e8769",
   "metadata": {},
   "outputs": [
    {
     "name": "stdout",
     "output_type": "stream",
     "text": [
      "            year  year_scaled\n",
      "0     2019.89085     0.000000\n",
      "1     2024.00000     1.512951\n",
      "2     2022.00000     0.776570\n",
      "3     2016.00000    -1.432575\n",
      "4     2019.00000    -0.328003\n",
      "...          ...          ...\n",
      "9110  2019.89085     0.000000\n",
      "9111  2019.89085     0.000000\n",
      "9112  2019.89085     0.000000\n",
      "9113  2019.89085     0.000000\n",
      "9114  2019.89085     0.000000\n",
      "\n",
      "[9115 rows x 2 columns]\n"
     ]
    }
   ],
   "source": [
    "print(X_num)"
   ]
  },
  {
   "cell_type": "code",
   "execution_count": 56,
   "id": "5bf95e8f-d927-4814-8df6-4f3b9c4dcce5",
   "metadata": {},
   "outputs": [],
   "source": [
    "y_level = df_unified_dataset['Risk Level']"
   ]
  },
  {
   "cell_type": "code",
   "execution_count": 59,
   "id": "08f98fbe-b062-4510-ba1e-de2788bc98d1",
   "metadata": {},
   "outputs": [
    {
     "name": "stdout",
     "output_type": "stream",
     "text": [
      "0       Medium\n",
      "1         High\n",
      "2       Medium\n",
      "3          Low\n",
      "4          Low\n",
      "         ...  \n",
      "9110    Medium\n",
      "9111    Medium\n",
      "9112    Medium\n",
      "9113    Medium\n",
      "9114    Medium\n",
      "Name: Risk Level, Length: 9115, dtype: object\n"
     ]
    }
   ],
   "source": [
    "print(y_level)"
   ]
  },
  {
   "cell_type": "code",
   "execution_count": 61,
   "id": "97dc5e06-c8e3-48a3-9083-34409911480f",
   "metadata": {},
   "outputs": [],
   "source": [
    "y_type = df_unified_dataset['Risk Level']"
   ]
  },
  {
   "cell_type": "code",
   "execution_count": 65,
   "id": "b4b14036-962e-45d5-bcbe-282e612f0caa",
   "metadata": {},
   "outputs": [
    {
     "name": "stdout",
     "output_type": "stream",
     "text": [
      "0       Medium\n",
      "1         High\n",
      "2       Medium\n",
      "3          Low\n",
      "4          Low\n",
      "         ...  \n",
      "9110    Medium\n",
      "9111    Medium\n",
      "9112    Medium\n",
      "9113    Medium\n",
      "9114    Medium\n",
      "Name: Risk Level, Length: 9115, dtype: object\n"
     ]
    }
   ],
   "source": [
    "print(y_type)"
   ]
  },
  {
   "cell_type": "code",
   "execution_count": null,
   "id": "98f0e20c-10c4-41ae-a1bb-229fa42abc72",
   "metadata": {},
   "outputs": [],
   "source": []
  }
 ],
 "metadata": {
  "kernelspec": {
   "display_name": "Python 3 (ipykernel)",
   "language": "python",
   "name": "python3"
  },
  "language_info": {
   "codemirror_mode": {
    "name": "ipython",
    "version": 3
   },
   "file_extension": ".py",
   "mimetype": "text/x-python",
   "name": "python",
   "nbconvert_exporter": "python",
   "pygments_lexer": "ipython3",
   "version": "3.8.10"
  }
 },
 "nbformat": 4,
 "nbformat_minor": 5
}
